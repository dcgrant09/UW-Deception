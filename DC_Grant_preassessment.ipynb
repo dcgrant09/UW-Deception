{
  "nbformat": 4,
  "nbformat_minor": 0,
  "metadata": {
    "colab": {
      "provenance": [],
      "name": "DC_Grant_preassessment.ipynb",
      "include_colab_link": true
    },
    "kernelspec": {
      "name": "python3",
      "display_name": "Python 3"
    },
    "language_info": {
      "name": "python"
    }
  },
  "cells": [
    {
      "cell_type": "markdown",
      "metadata": {
        "id": "view-in-github",
        "colab_type": "text"
      },
      "source": [
        "<a href=\"https://colab.research.google.com/github/dcgrant09/UW-Deception/blob/main/DC_Grant_preassessment.ipynb\" target=\"_parent\"><img src=\"https://colab.research.google.com/assets/colab-badge.svg\" alt=\"Open In Colab\"/></a>"
      ]
    },
    {
      "cell_type": "markdown",
      "source": [
        "# AWS Bootcamp: Machine Learning (ML) Python Assessment\n",
        "---\n",
        "\n",
        "**DIRECTIONS:**\n",
        "1. Please make a copy of this Colab and answer the questions in the coding cells below.\n",
        "2. When you are finished, share the Colab link with the email: train.pd@the-cs.org."
      ],
      "metadata": {
        "id": "QHnSAI5VpNjK"
      }
    },
    {
      "cell_type": "markdown",
      "source": [
        "##### **Question #1:** Print the statement: `The year is 2022.`"
      ],
      "metadata": {
        "id": "_9_WppzPpSLW"
      }
    },
    {
      "cell_type": "code",
      "execution_count": null,
      "metadata": {
        "id": "c2gPkPeEpMXG",
        "colab": {
          "base_uri": "https://localhost:8080/"
        },
        "outputId": "323ab426-463c-4632-b2e8-c7fb803ca071"
      },
      "outputs": [
        {
          "output_type": "stream",
          "name": "stdout",
          "text": [
            "The year is 2022.\n"
          ]
        }
      ],
      "source": [
        "year = 'The year is 2022.'\n",
        "print(year)\n"
      ]
    },
    {
      "cell_type": "markdown",
      "source": [
        "##### **Question #2:** Print the sum of 76 and 92."
      ],
      "metadata": {
        "id": "YxGDg2m0YI40"
      }
    },
    {
      "cell_type": "code",
      "source": [
        "k = 76\n",
        "p = 92\n",
        "kp = k + p\n",
        "print(kp)\n"
      ],
      "metadata": {
        "id": "sYtfisbsYKR-",
        "colab": {
          "base_uri": "https://localhost:8080/"
        },
        "outputId": "217f50db-cfbf-42d3-8e31-7dc76766836a"
      },
      "execution_count": null,
      "outputs": [
        {
          "output_type": "stream",
          "name": "stdout",
          "text": [
            "168\n"
          ]
        }
      ]
    },
    {
      "cell_type": "markdown",
      "source": [
        "##### **Question #3:** Create a variable called `name` and assign it to your name. Then print a statement that reads: `Welcome back, [YOUR NAME]`."
      ],
      "metadata": {
        "id": "7JlT2E21PhXA"
      }
    },
    {
      "cell_type": "code",
      "source": [
        "name = 'DC GRANT'\n",
        "welcome = 'Welcome back, '\n",
        "print(welcome + name + '.')\n"
      ],
      "metadata": {
        "id": "f-BBE7upPrRY",
        "colab": {
          "base_uri": "https://localhost:8080/"
        },
        "outputId": "c958e008-33ba-4404-9fc6-c2cafa5ea183"
      },
      "execution_count": null,
      "outputs": [
        {
          "output_type": "stream",
          "name": "stdout",
          "text": [
            "Welcome back, DC GRANT.\n"
          ]
        }
      ]
    },
    {
      "cell_type": "markdown",
      "source": [
        "##### **Question #4:** Write a function named `happy_bday` that has one parameter, `name`. If, for example, the argument for `name` is `\"Hans\"`, it prints\n",
        "```\n",
        "Happy Birthday Hans!\n",
        "```\n",
        "Call the function and wish a friend happy birthday!"
      ],
      "metadata": {
        "id": "uzzhsdkSPsoP"
      }
    },
    {
      "cell_type": "code",
      "source": [
        "def happy_bday(name):\n",
        "\tprint('Happy Birthday ' + name + '!')\n",
        "\n",
        "happy_bday('Hans')\n",
        "\n",
        "\n"
      ],
      "metadata": {
        "id": "vzCx6S2qPtcZ",
        "colab": {
          "base_uri": "https://localhost:8080/"
        },
        "outputId": "a25ba930-5004-49f6-fa1e-5c9c19cdeac1"
      },
      "execution_count": null,
      "outputs": [
        {
          "output_type": "stream",
          "name": "stdout",
          "text": [
            "Happy Birthday Hans!\n"
          ]
        }
      ]
    },
    {
      "cell_type": "markdown",
      "source": [
        "##### **Question #5:** Write a function named `how_old` that has two parameters -- `name` and `age`. If the argument for `name` is `\"Ana\"` and the argument for age is `13`, the function should print: `Ana is 13 years old. `\n",
        "\n",
        "Call the function with your name and age."
      ],
      "metadata": {
        "id": "VWlKvgiePriZ"
      }
    },
    {
      "cell_type": "code",
      "source": [
        "def how_old(name, age):\n",
        "  print(name + ' is ' + age + ' years old.' )\n",
        "\n",
        "how_old('D.C.', 'over 21')\n"
      ],
      "metadata": {
        "id": "ipXSyAMnPsY3",
        "colab": {
          "base_uri": "https://localhost:8080/"
        },
        "outputId": "37452458-7a8e-4d73-fe42-be3a7b7315ef"
      },
      "execution_count": null,
      "outputs": [
        {
          "output_type": "stream",
          "name": "stdout",
          "text": [
            "D.C. is over 21 years old.\n"
          ]
        }
      ]
    },
    {
      "cell_type": "markdown",
      "source": [
        "##### **Question #6:** Create a list called `countries` with the countries: Mexico, France, and Australia."
      ],
      "metadata": {
        "id": "CDqOvL5VTgEO"
      }
    },
    {
      "cell_type": "code",
      "source": [
        "countries = ['Mexico', 'France', 'Australia']\n"
      ],
      "metadata": {
        "id": "YmXA53L0TwCQ"
      },
      "execution_count": null,
      "outputs": []
    },
    {
      "cell_type": "markdown",
      "source": [
        "##### **Question #7:** Use indexing to print Alexus' name."
      ],
      "metadata": {
        "id": "UM3hTgUDPuBe"
      }
    },
    {
      "cell_type": "code",
      "source": [
        "family = [\"Rebecca\", \"Samuel\", \"Indiyah\", \"Alexus\"]"
      ],
      "metadata": {
        "id": "HJ4lyUanPvc3"
      },
      "execution_count": null,
      "outputs": []
    },
    {
      "cell_type": "code",
      "source": [
        "family = [\"Rebecca\", \"Samuel\", \"Indiyah\", \"Alexus\"]\n",
        "last = family[3]\n",
        "print(last)\n"
      ],
      "metadata": {
        "id": "48B3OyUTb9Jj",
        "colab": {
          "base_uri": "https://localhost:8080/"
        },
        "outputId": "77bc74e8-c380-43f1-bc82-8f06efdffed3"
      },
      "execution_count": null,
      "outputs": [
        {
          "output_type": "stream",
          "name": "stdout",
          "text": [
            "Alexus\n"
          ]
        }
      ]
    },
    {
      "cell_type": "markdown",
      "source": [
        "##### **Question #8:** Replace 'monkeys' with 'penguins' in the list below."
      ],
      "metadata": {
        "id": "iYxcFBquWyTO"
      }
    },
    {
      "cell_type": "code",
      "source": [
        "fav_animals = [\"giraffes\", \"walruses\", \"pandas\", \"peacocks\", \"monkeys\"]"
      ],
      "metadata": {
        "id": "6rEc4xphWzuO"
      },
      "execution_count": null,
      "outputs": []
    },
    {
      "cell_type": "code",
      "source": [
        "fav_animals = [\"giraffes\", \"walruses\", \"pandas\", \"peacocks\", \"monkeys\"]\n",
        "\n",
        "fav_animals[4] = \"penguins\"\n",
        "\n"
      ],
      "metadata": {
        "id": "DWM6McJTYz5C"
      },
      "execution_count": null,
      "outputs": []
    },
    {
      "cell_type": "markdown",
      "source": [
        "---\n",
        "© 2023 The Coding School, All rights reserved"
      ],
      "metadata": {
        "id": "40zySWM3P78Q"
      }
    }
  ]
}